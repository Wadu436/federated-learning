{
 "cells": [
  {
   "cell_type": "code",
   "execution_count": null,
   "id": "0e09de93",
   "metadata": {},
   "outputs": [],
   "source": [
    "import random, math\n",
    "\n",
    "import numpy as np\n",
    "import tensorflow as tf\n",
    "import matplotlib.pyplot as plt\n",
    "from tqdm import tqdm"
   ]
  },
  {
   "cell_type": "code",
   "execution_count": null,
   "id": "7d9e47af",
   "metadata": {},
   "outputs": [],
   "source": [
    "#  Parameters of the algorithm. Feel free to play with these and see how they affect the training!\n",
    "ROUNDS = 10\n",
    "DEVICES = 100\n",
    "PERCENTAGE_OF_DEVICES_PER_ROUND = 0.1"
   ]
  },
  {
   "cell_type": "markdown",
   "id": "325cda3e",
   "metadata": {},
   "source": [
    "First we will load the MNIST data set and split it into seperate datasets per device"
   ]
  },
  {
   "cell_type": "code",
   "execution_count": null,
   "id": "2e21a069",
   "metadata": {},
   "outputs": [],
   "source": [
    "mnist = tf.keras.datasets.mnist\n",
    "\n",
    "(x_train, y_train), (x_test, y_test) = mnist.load_data()\n",
    "x_train, x_test = x_train / 255.0, x_test / 255.0\n",
    "\n",
    "# Shard the data into different devices\n",
    "def shard_data(x, y, num_clients=10):\n",
    "    client_names = [f\"client_{i+1}\" for i in range(num_clients)]\n",
    "    \n",
    "    data = list(zip(x, y))\n",
    "    \n",
    "    size = len(data)//num_clients\n",
    "    \n",
    "    shards = [data[i:i + size] for i in range(0, size*num_clients, size)]\n",
    "    \n",
    "    return {client_names[i] : shards[i] for i in range(len(client_names))} \n",
    "\n",
    "shards = shard_data(x_train, y_train, DEVICES)"
   ]
  },
  {
   "cell_type": "code",
   "execution_count": null,
   "id": "446936e2",
   "metadata": {},
   "outputs": [],
   "source": [
    "plt.imshow(x_train[0]).set_cmap(\"gray\")"
   ]
  },
  {
   "cell_type": "markdown",
   "id": "ea015ba3",
   "metadata": {},
   "source": [
    "Here we define some utility functions to create the model, and average its weights"
   ]
  },
  {
   "cell_type": "code",
   "execution_count": null,
   "id": "30b3bf2a",
   "metadata": {},
   "outputs": [],
   "source": [
    "# Define training parameters\n",
    "lr = 0.01\n",
    "loss_fn=tf.keras.losses.SparseCategoricalCrossentropy()\n",
    "metrics = ['accuracy']\n",
    "\n",
    "def create_model():\n",
    "    optimizer = tf.keras.optimizers.Adam(learning_rate=lr)\n",
    "    model = tf.keras.models.Sequential([\n",
    "      tf.keras.layers.Flatten(input_shape=(28, 28)),\n",
    "      tf.keras.layers.Dense(128, activation='relu'),\n",
    "      tf.keras.layers.Dense(10),\n",
    "      tf.keras.layers.Softmax(),\n",
    "    ])\n",
    "    model.compile(optimizer=optimizer, metrics=metrics, loss=loss_fn)\n",
    "    return model\n",
    "\n",
    "def average_weights(collected_client_data):\n",
    "    total_count = sum([c[1] for c in collected_client_data])\n",
    "    \n",
    "    averaged_weights = []\n",
    "    for layer in range(len(collected_client_data[0][0])):\n",
    "        layer_weights = np.zeros(collected_client_data[0][0][layer].shape)\n",
    "        for i in range(len(collected_client_data)):\n",
    "            factor = collected_client_data[i][1] / total_count\n",
    "            layer_weights += factor * collected_client_data[i][0][layer]\n",
    "        averaged_weights.append(layer_weights)\n",
    "    return averaged_weights\n",
    "\n",
    "create_model().summary()"
   ]
  },
  {
   "cell_type": "markdown",
   "id": "b23504a7",
   "metadata": {},
   "source": [
    "Then, we train the model for some rounds, keeping track of the accuracy after each round"
   ]
  },
  {
   "cell_type": "code",
   "execution_count": null,
   "id": "bbe5c1cd",
   "metadata": {
    "scrolled": false
   },
   "outputs": [],
   "source": [
    "global_model = create_model()\n",
    "\n",
    "accuracy_per_round = []\n",
    "\n",
    "pbar = tqdm(list(range(ROUNDS)))\n",
    "for r in pbar:\n",
    "    global_weights = global_model.get_weights()\n",
    "    \n",
    "    # Select a random subset of the devices\n",
    "    shard_keys = list(shards.keys())\n",
    "    np.random.shuffle(shard_keys)\n",
    "    num_devices_in_round = max(1, math.ceil(PERCENTAGE_OF_DEVICES_PER_ROUND * len(shard_keys)))\n",
    "    selected_keys = shard_keys[:num_devices_in_round]\n",
    "    \n",
    "    collected_client_data = []\n",
    "    # Train the model on each device seperately, \"send\" the results back to the server\n",
    "    for key in selected_keys:\n",
    "        data = shards[key]\n",
    "        \n",
    "        # Local training data\n",
    "        x_train = np.array([data[i][0] for i in range(len(data))])\n",
    "        y_train = np.array([data[i][1] for i in range(len(data))])\n",
    "        \n",
    "        # set up local model\n",
    "        local_model = create_model()\n",
    "        local_model.set_weights(global_weights)\n",
    "        local_model.fit(x_train, y_train, verbose=0)\n",
    "        \n",
    "        collected_client_data.append((local_model.get_weights(), len(data)))\n",
    "    \n",
    "    # Average the weights we have \"received\" from the clients and update the global model\n",
    "    averaged_weights = average_weights(collected_client_data)\n",
    "    global_model.set_weights(averaged_weights)\n",
    "    \n",
    "    # Evaluate the global model after this round and save the accuracy for later\n",
    "    global_metrics = global_model.evaluate(x_test,  y_test, verbose=0)\n",
    "    pbar.set_description(f\"Accuracy: {100*global_metrics[1]:.2f}%\")\n",
    "    accuracy_per_round.append(global_metrics[1])"
   ]
  },
  {
   "cell_type": "markdown",
   "id": "90a0353c",
   "metadata": {},
   "source": [
    "Finally, we plot the accuracy per round so we can visualize the progress"
   ]
  },
  {
   "cell_type": "code",
   "execution_count": null,
   "id": "4fadf291",
   "metadata": {},
   "outputs": [],
   "source": [
    "# Plot accuracy per round\n",
    "NUM_TICKS = 11\n",
    "\n",
    "ys = np.array(accuracy_per_round)\n",
    "xs = 1+np.arange(ys.size)\n",
    "ticks = (1+(ys.size-1)*np.arange(NUM_TICKS)/(NUM_TICKS-1)).astype(int)\n",
    "plt.plot(xs, ys)\n",
    "plt.gca().set_xticks(ticks)\n",
    "plt.xlabel(\"Round\")\n",
    "plt.ylabel(\"Accuracy\")\n",
    "plt.show()"
   ]
  },
  {
   "cell_type": "code",
   "execution_count": null,
   "id": "8e3ec7b8",
   "metadata": {},
   "outputs": [],
   "source": []
  }
 ],
 "metadata": {
  "kernelspec": {
   "display_name": "Python 3 (ipykernel)",
   "language": "python",
   "name": "python3"
  },
  "language_info": {
   "codemirror_mode": {
    "name": "ipython",
    "version": 3
   },
   "file_extension": ".py",
   "mimetype": "text/x-python",
   "name": "python",
   "nbconvert_exporter": "python",
   "pygments_lexer": "ipython3",
   "version": "3.9.16"
  }
 },
 "nbformat": 4,
 "nbformat_minor": 5
}
